{
 "cells": [
  {
   "cell_type": "code",
   "execution_count": 2,
   "metadata": {
    "collapsed": true,
    "deletable": true,
    "editable": true
   },
   "outputs": [],
   "source": [
    "import os"
   ]
  },
  {
   "cell_type": "code",
   "execution_count": 29,
   "metadata": {
    "collapsed": true,
    "deletable": true,
    "editable": true
   },
   "outputs": [],
   "source": [
    "import numpy as np\n",
    "import pandas as pd\n",
    "import json\n",
    "import copy\n",
    "\n",
    "def read_json(path):\n",
    "    return json.load(open(path, 'r'))"
   ]
  },
  {
   "cell_type": "code",
   "execution_count": 4,
   "metadata": {
    "collapsed": true,
    "deletable": true,
    "editable": true
   },
   "outputs": [],
   "source": [
    "def dump_json(path, obj):\n",
    "    with open(path, 'w') as fn:\n",
    "        json.dump(obj, fn)"
   ]
  },
  {
   "cell_type": "code",
   "execution_count": 6,
   "metadata": {
    "collapsed": true,
    "deletable": true,
    "editable": true
   },
   "outputs": [],
   "source": [
    "def delete_duplicates(json_list):\n",
    "    \"\"\"\n",
    "    Left only items with unique nl values\n",
    "    in list of jsons which is looks like this:\n",
    "    json_list[\n",
    "             {'nl': 'THIS_SENT_IS_THE_KEY', ...},\n",
    "             {...},\n",
    "        ...]\n",
    "    This method doesn't change json_list;\n",
    "    Compare only nl values;\n",
    "    \n",
    "    \"\"\"\n",
    "    nls = []\n",
    "    res = []\n",
    "    for item in json_list:\n",
    "        if item['nl'] not in nls:\n",
    "            nls.append(item['nl'])\n",
    "            res.append(item)\n",
    "    print('unique items: {}'.format(len(res)))\n",
    "    return res"
   ]
  },
  {
   "cell_type": "code",
   "execution_count": 7,
   "metadata": {
    "collapsed": false,
    "deletable": true,
    "editable": true
   },
   "outputs": [],
   "source": [
    "def process_log(log, who='usr'):\n",
    "    dialog = {}\n",
    "    turns_arr = []\n",
    "    for turn in log['turns']:\n",
    "        acts_for_item = []\n",
    "        tmp = {}\n",
    "        tmp['slots'] = []\n",
    "        tmp['values'] = []\n",
    "        tmp['acts'] = []\n",
    "        tmp['set_acts'] = []\n",
    "        \n",
    "        if who == 'usr':\n",
    "            tmp['nl'] = turn['transcription']\n",
    "            dialog[turn['turn-index']] = tmp['nl']\n",
    "            semantics = turn['semantics']['json']\n",
    "        elif who == 'agt':\n",
    "            tmp['nl'] = turn['output']['transcript']\n",
    "            dialog[turn['turn-index']] = tmp['nl']\n",
    "            semantics = turn['output']['dialog-acts']\n",
    "        else:\n",
    "            raise Exception('Wrong value of \"who\" param!')\n",
    "        \n",
    "        # every sentence may have more then 1 slot;\n",
    "        for item in semantics:\n",
    "            act = item['act']\n",
    "            if act:\n",
    "                tmp['acts'].append(act)\n",
    "                \n",
    "            if item['slots']:\n",
    "                slots = item['slots'][0] # because of such \n",
    "                                         #representation: [[]]\n",
    "                if act != 'request':\n",
    "                    tmp['slots'].append(slots[0])\n",
    "                    tmp['values'].append(slots[1])\n",
    "                else: # because in this case slots[0] == 'slot'\n",
    "                    tmp['slots'].append(slots[1])\n",
    "                    tmp['values'].append(\"NONE\")\n",
    "            \n",
    "        tmp['set_acts'] = frozenset(tmp['acts'])\n",
    "        turns_arr.append(tmp)\n",
    "        \n",
    "    return turns_arr, dialog"
   ]
  },
  {
   "cell_type": "code",
   "execution_count": 131,
   "metadata": {
    "collapsed": true,
    "deletable": true,
    "editable": true
   },
   "outputs": [],
   "source": [
    "def make_placeholders(df):\n",
    "    \n",
    "\n",
    "    req_parse_vals = {\n",
    "    'phone':['phone number', 'phone', 'number', 'telephone'],\n",
    "    'addr':['address', 'addre', 'addrss', 'adddress'],\n",
    "    'pricerange':['price range', 'price ran', 'price of food', 'price code', 'prices', 'price', 'cost'],\n",
    "    'area':['area', 'part of town', 'location'],\n",
    "    'food':['food', 'serves'],\n",
    "    'postcode': ['postcode', 'post code', 'zip code', 'postal code'],\n",
    "    'name':['name'] }\n",
    "    \n",
    "    pandas_df = copy.deepcopy(df)\n",
    "    for i,row in enumerate(pandas_df.iterrows()):\n",
    "        for slot,val in zip(row[1]['slots'], row[1]['values']):\n",
    "            if (slot == 'addr') or (slot == 'postcode'):\n",
    "                row[1]['nl'] = row[1]['nl'].replace(val.title(), \"${}$\".format(slot))\n",
    "                if slot == 'postcode':\n",
    "                    row[1]['nl'] = row[1]['nl'][:-7] # да, тут полно костылей, но иначе никак(\n",
    "            elif slot!='this':\n",
    "                if ((val!='NONE')&(val!='dontcare')):\n",
    "                    row[1]['nl'] = row[1]['nl'].replace(val, \"${}$\".format(slot))\n",
    "                elif (val == 'dontcare'):\n",
    "                    for assump in ['any', 'you dont care']:\n",
    "                        row[1]['nl'] = row[1]['nl'].replace(assump, \"${}$\".format(slot))\n",
    "                elif (slot!='signature'):\n",
    "                    # request case -- we don't know the exactly value of slot;\n",
    "                    for v in req_parse_vals[slot]:\n",
    "                        if v in row[1]['nl']:\n",
    "                            row[1]['nl'] = row[1]['nl'].replace(v, \"${}$\".format(slot))\n",
    "                            break\n",
    "                \n",
    "    pandas_df['nl'] = [' '.join(nl.replace('noise', '').split()) for nl in pandas_df['nl']]\n",
    "    return pandas_df"
   ]
  },
  {
   "cell_type": "code",
   "execution_count": 164,
   "metadata": {
    "collapsed": false
   },
   "outputs": [],
   "source": [
    "def make_right_columns(df,who, wrong_acts = ['repeat', 'ack', 'restart']):\n",
    "    \"\"\"\n",
    "    drop all rows which have even one of actions in wrong_acts;\n",
    "    make 3 columns for all actions and 3 columns for all slots;\n",
    "    drop duplicates;\n",
    "    it doesn't change original df;\n",
    "    remove 'noise' word from each nl\n",
    "    \n",
    "    \"\"\"\n",
    "    def replace_this_slot(df):\n",
    "        def delete_unnecessary_acts(row):\n",
    "            # если нет для второстепенных действий слотов, то убираем эти действия\n",
    "            if (row['act2']!='') and (row['slot2']==''):\n",
    "                row['act2']=''\n",
    "            if (row['act3']!='') and (row['slot3']==''):\n",
    "                row['act3']=''\n",
    "                \n",
    "        if who == 'usr':\n",
    "            for row in df.iterrows():\n",
    "                for i in range(1,4):\n",
    "                    # если 'this' слоту соотвествует экшон 'inform', то заменяем его на 'dontcare':\n",
    "                    if (row[1]['act'+str(i)]=='inform') and (row[1]['slot'+str(i)]=='this'):\n",
    "                        row[1]['act'+str(i)] = 'dontcare'\n",
    "                        row[1]['slot'+str(i)] = ''\n",
    "                    elif row[1]['slot'+str(i)]=='this':\n",
    "                        if row[1]['slot'+str((i+1)%4)]!='':\n",
    "                            # если следующий за this слот есть, то ставим его на место this\n",
    "                            # и соответствующий экшон тоже ставим на экшон this\n",
    "                            row[1]['slot'+str(i)] = row[1]['slot'+str((i+1)%4)]\n",
    "                            row[1]['slot'+str((i+1)%4)] = ''\n",
    "                            row[1]['act'+str(i)] = row[1]['act'+str((i+1)%4)]\n",
    "                            row[1]['act'+str((i+1)%4)] = ''\n",
    "                        else:\n",
    "                            row[1]['slot'+str(i)] = ''\n",
    "                delete_unnecessary_acts(row[1])\n",
    "        elif who == 'agt':\n",
    "            for row in df.iterrows():\n",
    "                if row[1]['act2'] == 'canthelp.exception':\n",
    "                    row[1]['act2'] = ''\n",
    "                    row[1]['act3'] = ''\n",
    "                    row[1]['slot2'] = ''\n",
    "                    row[1]['slot3'] = '' \n",
    "                delete_unnecessary_acts(row[1])\n",
    "            \n",
    "    new_df = copy.deepcopy(df)\n",
    "    print('shape before:', new_df.shape)\n",
    "    new_df['act1'] = [act[0] if act else '' for act in df['acts']]\n",
    "    new_df['act2'] = [act[1] if len(act)>=2 else '' for act in df['acts']]\n",
    "    new_df['act3'] = [act[2] if len(act)>=3 else '' for act in df['acts']]\n",
    "    new_df['slot1'] = [slot[0] if slot else '' for slot in df['slots']]\n",
    "    new_df['slot2'] = [slot[1] if len(slot)>=2 else '' for slot in df['slots']]\n",
    "    new_df['slot3'] = [slot[2] if len(slot)>=3 else '' for slot in df['slots']]\n",
    "    replace_this_slot(new_df)\n",
    "    \n",
    "    new_df.drop(new_df[new_df.act1 == ''].index, inplace=True) ## delete rows without any info\n",
    "    new_df.drop(['acts', 'slots', 'set_acts', 'values'], axis=1, inplace=True)\n",
    "    for act in wrong_acts:\n",
    "        new_df.drop(new_df[(new_df.act1 == act)|(new_df.act2 == act)|(new_df.act3 == act)].index, inplace=True)\n",
    "    new_df['nl'] = [nl.replace('$pricerange$ly', '$pricerange$') for nl in new_df['nl']]\n",
    "    new_df.drop(new_df[new_df.nl == ''].index, inplace=True)\n",
    "    \n",
    "    new_df.drop_duplicates(inplace=True)\n",
    "    print('shape after:', new_df.shape)\n",
    "    return new_df"
   ]
  },
  {
   "cell_type": "code",
   "execution_count": 199,
   "metadata": {
    "collapsed": true
   },
   "outputs": [],
   "source": [
    "def canthelp_edit(df, ontology_path=\"../ontology_dstc2.json\"):\n",
    "    \"\"\"\n",
    "    add necessary slots to table using ontology file\n",
    "    only to columns with canthelp action1\n",
    "    \n",
    "    \"\"\"\n",
    "    ontology = read_json(ontology_path)\n",
    "    for row in df.iterrows():\n",
    "        vacant = 2\n",
    "        if row[1]['act1'] == 'canthelp':\n",
    "            for price in ontology['informable']['pricerange']:\n",
    "                if row[1]['nl'].find(price)>0:\n",
    "                    row[1]['nl'] = row[1]['nl'].replace(price, '$pricerange$')\n",
    "                    row[1]['slot'+str(vacant)] = 'pricerange'\n",
    "                    row[1]['act'+str(vacant)] = 'canthelp'\n",
    "                    vacant+=1\n",
    "                    break\n",
    "            for area in ontology['informable']['area']:\n",
    "                if row[1]['nl'].find(area)>0:\n",
    "                    row[1]['nl']= row[1]['nl'].replace(area, '$area$')\n",
    "                    row[1]['slot'+str(vacant)] = 'area'\n",
    "                    row[1]['act'+str(vacant)] = 'canthelp'\n",
    "                    vacant+=1\n",
    "                    break\n",
    "            if vacant!=4:\n",
    "                for food in ontology['informable']['food']:\n",
    "                    if row[1]['nl'].find(food)>0:\n",
    "                        row[1]['nl'] = row[1]['nl'].replace(food, '$food$')\n",
    "                        row[1]['slot'+str(vacant)] = 'food'\n",
    "                        row[1]['act'+str(vacant)] = 'canthelp'\n",
    "                        break\n",
    "    df.drop_duplicates(inplace=True)\n",
    "    print('Now shape:', df.shape)"
   ]
  },
  {
   "cell_type": "markdown",
   "metadata": {
    "deletable": true,
    "editable": true
   },
   "source": [
    "# Main"
   ]
  },
  {
   "cell_type": "code",
   "execution_count": 200,
   "metadata": {
    "collapsed": false,
    "deletable": true,
    "editable": true
   },
   "outputs": [
    {
     "name": "stdout",
     "output_type": "stream",
     "text": [
      "unique items: 2912\n",
      "unique items: 1679\n",
      "shape before: (2912, 5)\n",
      "shape after: (1940, 7)\n",
      "shape before: (1679, 5)\n",
      "shape after: (228, 7)\n",
      "Now shape: (84, 7)\n"
     ]
    }
   ],
   "source": [
    "src_path = '../data/dstc2_all/original_data/'\n",
    "train = '../data/dstc2_all/original_data/scripts/config/dstc2_train.flist'\n",
    "trn_flist = np.array(pd.read_csv(train, sep='\\n', header=None)).reshape(1612,)\n",
    "\n",
    "diaacts_usr = []\n",
    "diaacts_agt = []\n",
    "\n",
    "\n",
    "with open(\"/Users/fogside/Projects/NLP_RF/dialogs.txt\", 'w') as diatext:\n",
    "    for i,f in enumerate(trn_flist):\n",
    "        label_path = os.path.join(src_path, f, 'label.json')\n",
    "        log_path = os.path.join(src_path, f, 'log.json')\n",
    "\n",
    "        label = read_json(label_path)\n",
    "        log = read_json(log_path)\n",
    "        \n",
    "        acts_agt, dialog_agt = process_log(log, 'agt')\n",
    "        acts_usr, dialog_usr = process_log(label, 'usr')\n",
    "        \n",
    "        diaacts_usr.extend(acts_usr)\n",
    "        diaacts_agt.extend(acts_agt)\n",
    "        \n",
    "        diatext.write(\">{}\\n\".format(i))\n",
    "        for j in range(len(dialog_agt)):\n",
    "            diatext.write(\"{}\\n\".format(dialog_agt[j]))\n",
    "            diatext.write(\"{}\\n\".format(dialog_usr[j]))\n",
    "\n",
    "diaacts_usr = delete_duplicates(diaacts_usr)\n",
    "diaacts_agt = delete_duplicates(diaacts_agt)\n",
    "\n",
    "usr_df = pd.DataFrame(diaacts_usr)\n",
    "agt_df = pd.DataFrame(diaacts_agt)\n",
    "\n",
    "agt_df = make_placeholders(agt_df)\n",
    "usr_df = make_placeholders(usr_df)\n",
    "\n",
    "usr_df = make_right_columns(usr_df, 'usr')\n",
    "agt_df = make_right_columns(agt_df, 'agt')\n",
    "\n",
    "canthelp_edit(agt_df)"
   ]
  },
  {
   "cell_type": "code",
   "execution_count": 171,
   "metadata": {
    "collapsed": false
   },
   "outputs": [],
   "source": [
    "usr_df.to_csv(\"../usr_df_final.csv\", index=False)"
   ]
  },
  {
   "cell_type": "code",
   "execution_count": 201,
   "metadata": {
    "collapsed": true
   },
   "outputs": [],
   "source": [
    "agt_df.to_csv(\"../agt_df_final.csv\", index=False)"
   ]
  },
  {
   "cell_type": "markdown",
   "metadata": {},
   "source": [
    "# Test"
   ]
  },
  {
   "cell_type": "code",
   "execution_count": 48,
   "metadata": {
    "collapsed": false
   },
   "outputs": [
    {
     "name": "stdout",
     "output_type": "stream",
     "text": [
      "Let me confirm , You are looking for a restaurant in the $pricerange$ price range right?\n",
      "Did you say you are looking for a restaurant in the $area$ of town?\n",
      "You are looking for a $food$ restaurant right?\n",
      "You are looking for a restaurant serving any kind of food right?\n",
      "Let me confirm , You are looking for a restaurant and you dont care about the price range right?\n",
      "Ok , a restaurant in any part of town is that right?\n"
     ]
    }
   ],
   "source": [
    "for nl in df_new[(df_new.act1=='expl-conf')|(df_new.act2=='expl-conf')|(df_new.act3=='expl-conf')].nl:\n",
    "    print(nl)"
   ]
  },
  {
   "cell_type": "code",
   "execution_count": 50,
   "metadata": {
    "collapsed": false
   },
   "outputs": [
    {
     "name": "stdout",
     "output_type": "stream",
     "text": [
      "There are restaurants serving $food$ in the $pricerange$ price range . What $area$ would you like?\n",
      "There are restaurants serving $food$ food . What $area$ do you want?\n",
      "There are restaurants in the $pricerange$ price range and the $area$ of town . What type of $food$ would you like?\n"
     ]
    }
   ],
   "source": [
    "for nl in df_new[(df_new.act1=='impl-conf')|(df_new.act2=='impl-conf')|(df_new.act3=='impl-conf')].nl:\n",
    "    print(nl)"
   ]
  },
  {
   "cell_type": "code",
   "execution_count": 46,
   "metadata": {
    "collapsed": false
   },
   "outputs": [
    {
     "data": {
      "text/plain": [
       "{'',\n",
       " 'canthelp',\n",
       " 'canthelp.exception',\n",
       " 'confirm-domain',\n",
       " 'expl-conf',\n",
       " 'impl-conf',\n",
       " 'inform',\n",
       " 'offer',\n",
       " 'reqmore',\n",
       " 'request',\n",
       " 'select',\n",
       " 'welcomemsg'}"
      ]
     },
     "execution_count": 46,
     "metadata": {},
     "output_type": "execute_result"
    }
   ],
   "source": [
    "set(df_new.act1)|set(df_new.act2)|set(df_new.act3)"
   ]
  },
  {
   "cell_type": "code",
   "execution_count": 44,
   "metadata": {
    "collapsed": false,
    "deletable": true,
    "editable": true
   },
   "outputs": [
    {
     "data": {
      "text/html": [
       "<div>\n",
       "<table border=\"1\" class=\"dataframe\">\n",
       "  <thead>\n",
       "    <tr style=\"text-align: right;\">\n",
       "      <th></th>\n",
       "      <th>nl</th>\n",
       "      <th>act1</th>\n",
       "      <th>act2</th>\n",
       "      <th>act3</th>\n",
       "      <th>slot1</th>\n",
       "      <th>slot2</th>\n",
       "      <th>slot3</th>\n",
       "    </tr>\n",
       "  </thead>\n",
       "  <tbody>\n",
       "    <tr>\n",
       "      <th>0</th>\n",
       "      <td>Hello , welcome to the Cambridge restaurant sy...</td>\n",
       "      <td>welcomemsg</td>\n",
       "      <td></td>\n",
       "      <td></td>\n",
       "      <td></td>\n",
       "      <td></td>\n",
       "      <td></td>\n",
       "    </tr>\n",
       "    <tr>\n",
       "      <th>1</th>\n",
       "      <td>What kind of $food$ would you like?</td>\n",
       "      <td>request</td>\n",
       "      <td></td>\n",
       "      <td></td>\n",
       "      <td>food</td>\n",
       "      <td></td>\n",
       "      <td></td>\n",
       "    </tr>\n",
       "    <tr>\n",
       "      <th>2</th>\n",
       "      <td>Sorry there is no swedish restaurant in the $p...</td>\n",
       "      <td>canthelp</td>\n",
       "      <td></td>\n",
       "      <td></td>\n",
       "      <td>pricerange</td>\n",
       "      <td></td>\n",
       "      <td></td>\n",
       "    </tr>\n",
       "    <tr>\n",
       "      <th>3</th>\n",
       "      <td>$name$ is a great restaurant serving $food$ fo...</td>\n",
       "      <td>offer</td>\n",
       "      <td>inform</td>\n",
       "      <td>inform</td>\n",
       "      <td>name</td>\n",
       "      <td>food</td>\n",
       "      <td>pricerange</td>\n",
       "    </tr>\n",
       "    <tr>\n",
       "      <th>4</th>\n",
       "      <td>Can I help you with anything else?</td>\n",
       "      <td>reqmore</td>\n",
       "      <td></td>\n",
       "      <td></td>\n",
       "      <td></td>\n",
       "      <td></td>\n",
       "      <td></td>\n",
       "    </tr>\n",
       "  </tbody>\n",
       "</table>\n",
       "</div>"
      ],
      "text/plain": [
       "                                                  nl        act1    act2  \\\n",
       "0  Hello , welcome to the Cambridge restaurant sy...  welcomemsg           \n",
       "1                What kind of $food$ would you like?     request           \n",
       "2  Sorry there is no swedish restaurant in the $p...    canthelp           \n",
       "3  $name$ is a great restaurant serving $food$ fo...       offer  inform   \n",
       "4                 Can I help you with anything else?     reqmore           \n",
       "\n",
       "     act3       slot1 slot2       slot3  \n",
       "0                                        \n",
       "1                food                    \n",
       "2          pricerange                    \n",
       "3  inform        name  food  pricerange  \n",
       "4                                        "
      ]
     },
     "execution_count": 44,
     "metadata": {},
     "output_type": "execute_result"
    }
   ],
   "source": [
    "df_new.head()"
   ]
  },
  {
   "cell_type": "code",
   "execution_count": 45,
   "metadata": {
    "collapsed": false,
    "deletable": true,
    "editable": true
   },
   "outputs": [
    {
     "data": {
      "text/html": [
       "<div>\n",
       "<table border=\"1\" class=\"dataframe\">\n",
       "  <thead>\n",
       "    <tr style=\"text-align: right;\">\n",
       "      <th></th>\n",
       "      <th>nl</th>\n",
       "      <th>act1</th>\n",
       "      <th>act2</th>\n",
       "      <th>act3</th>\n",
       "      <th>slot1</th>\n",
       "      <th>slot2</th>\n",
       "      <th>slot3</th>\n",
       "    </tr>\n",
       "  </thead>\n",
       "  <tbody>\n",
       "    <tr>\n",
       "      <th>0</th>\n",
       "      <td>hello and welcome to the cambridge</td>\n",
       "      <td>hello</td>\n",
       "      <td></td>\n",
       "      <td></td>\n",
       "      <td></td>\n",
       "      <td></td>\n",
       "      <td></td>\n",
       "    </tr>\n",
       "    <tr>\n",
       "      <th>1</th>\n",
       "      <td>$pricerange$ly priced $food$ food</td>\n",
       "      <td>inform</td>\n",
       "      <td>inform</td>\n",
       "      <td></td>\n",
       "      <td>food</td>\n",
       "      <td>pricerange</td>\n",
       "      <td></td>\n",
       "    </tr>\n",
       "    <tr>\n",
       "      <th>2</th>\n",
       "      <td>how about $food$</td>\n",
       "      <td>reqalts</td>\n",
       "      <td>inform</td>\n",
       "      <td></td>\n",
       "      <td>food</td>\n",
       "      <td></td>\n",
       "      <td></td>\n",
       "    </tr>\n",
       "    <tr>\n",
       "      <th>3</th>\n",
       "      <td>is there anything else</td>\n",
       "      <td>reqalts</td>\n",
       "      <td></td>\n",
       "      <td></td>\n",
       "      <td></td>\n",
       "      <td></td>\n",
       "      <td></td>\n",
       "    </tr>\n",
       "    <tr>\n",
       "      <th>4</th>\n",
       "      <td>could i have the $addr$ and $phone$</td>\n",
       "      <td>request</td>\n",
       "      <td>request</td>\n",
       "      <td></td>\n",
       "      <td>addr</td>\n",
       "      <td>phone</td>\n",
       "      <td></td>\n",
       "    </tr>\n",
       "  </tbody>\n",
       "</table>\n",
       "</div>"
      ],
      "text/plain": [
       "                                    nl     act1     act2 act3 slot1  \\\n",
       "0   hello and welcome to the cambridge    hello                       \n",
       "1    $pricerange$ly priced $food$ food   inform   inform       food   \n",
       "2                     how about $food$  reqalts   inform       food   \n",
       "3               is there anything else  reqalts                       \n",
       "4  could i have the $addr$ and $phone$  request  request       addr   \n",
       "\n",
       "        slot2 slot3  \n",
       "0                    \n",
       "1  pricerange        \n",
       "2                    \n",
       "3                    \n",
       "4       phone        "
      ]
     },
     "execution_count": 45,
     "metadata": {},
     "output_type": "execute_result"
    }
   ],
   "source": [
    "df_new_usr.head()"
   ]
  },
  {
   "cell_type": "code",
   "execution_count": null,
   "metadata": {
    "collapsed": true
   },
   "outputs": [],
   "source": []
  }
 ],
 "metadata": {
  "kernelspec": {
   "display_name": "Python 3",
   "language": "python",
   "name": "python3"
  },
  "language_info": {
   "codemirror_mode": {
    "name": "ipython",
    "version": 3
   },
   "file_extension": ".py",
   "mimetype": "text/x-python",
   "name": "python",
   "nbconvert_exporter": "python",
   "pygments_lexer": "ipython3",
   "version": "3.5.1"
  }
 },
 "nbformat": 4,
 "nbformat_minor": 2
}
